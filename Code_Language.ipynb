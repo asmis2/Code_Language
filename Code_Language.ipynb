{
 "cells": [
  {
   "cell_type": "code",
   "execution_count": 1,
   "metadata": {},
   "outputs": [
    {
     "name": "stdout",
     "output_type": "stream",
     "text": [
      "Enter the string which needs to be converted:-MISHRAA\n",
      "The coded word: ['H', 'A', 'M', 'S', 'R', 'A', 'I']\n"
     ]
    }
   ],
   "source": [
    "s = input(\"Enter the string which needs to be converted:-\")\n",
    "li =[i for i in s]\n",
    "new_li = []\n",
    "new_li.append(li[3])\n",
    "new_li.append(li[5])\n",
    "new_li.append(li[0])\n",
    "new_li.append(li[2])\n",
    "new_li.append(li[4])\n",
    "new_li.append(li[6])\n",
    "new_li.append(li[1])\n",
    "    \n",
    "print(\"The coded word:\",new_li)    "
   ]
  },
  {
   "cell_type": "code",
   "execution_count": null,
   "metadata": {},
   "outputs": [],
   "source": []
  },
  {
   "cell_type": "code",
   "execution_count": null,
   "metadata": {},
   "outputs": [],
   "source": []
  }
 ],
 "metadata": {
  "kernelspec": {
   "display_name": "Python 3",
   "language": "python",
   "name": "python3"
  },
  "language_info": {
   "codemirror_mode": {
    "name": "ipython",
    "version": 3
   },
   "file_extension": ".py",
   "mimetype": "text/x-python",
   "name": "python",
   "nbconvert_exporter": "python",
   "pygments_lexer": "ipython3",
   "version": "3.7.9"
  }
 },
 "nbformat": 4,
 "nbformat_minor": 4
}
